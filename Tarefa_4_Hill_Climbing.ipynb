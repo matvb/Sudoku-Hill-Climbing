{
  "nbformat": 4,
  "nbformat_minor": 0,
  "metadata": {
    "colab": {
      "name": "Tarefa 4 - Hill Climbing.ipynb",
      "provenance": [],
      "collapsed_sections": [
        "kbqIewAdkaxv",
        "aAvSABFYmNxA",
        "ct0yCZINyjRf",
        "nH-300gEnh0b",
        "_-yO421Rp_Kw",
        "sYo36DYqvm9N",
        "DPTDkhF1yNFv",
        "B3FEz32dblEL"
      ],
      "authorship_tag": "ABX9TyPAmrgW5ju4ZUXxgR76EWwv",
      "include_colab_link": true
    },
    "kernelspec": {
      "name": "python3",
      "display_name": "Python 3"
    }
  },
  "cells": [
    {
      "cell_type": "markdown",
      "metadata": {
        "id": "view-in-github",
        "colab_type": "text"
      },
      "source": [
        "<a href=\"https://colab.research.google.com/github/matvb/Sudoku-Hill-Climbing/blob/main/Tarefa_4_Hill_Climbing.ipynb\" target=\"_parent\"><img src=\"https://colab.research.google.com/assets/colab-badge.svg\" alt=\"Open In Colab\"/></a>"
      ]
    },
    {
      "cell_type": "markdown",
      "metadata": {
        "id": "6pdQ3fqZId5J"
      },
      "source": [
        "# Inteligência Artifical\n",
        "## Tarefa 4 - Hill Climbing\n",
        "### Mateus de Almeida Villas Boas\n",
        "### DRE: 115054675\n",
        "\n"
      ]
    },
    {
      "cell_type": "markdown",
      "metadata": {
        "id": "kbqIewAdkaxv"
      },
      "source": [
        "## Imports"
      ]
    },
    {
      "cell_type": "code",
      "metadata": {
        "id": "ZdEfOmQ_JV6o"
      },
      "source": [
        "import numpy as np\n",
        "import random\n",
        "import math"
      ],
      "execution_count": null,
      "outputs": []
    },
    {
      "cell_type": "markdown",
      "metadata": {
        "id": "B69Pz4bWUQst"
      },
      "source": [
        "## Implementação do algorítimo de Hill Climbing\n"
      ]
    },
    {
      "cell_type": "markdown",
      "metadata": {
        "id": "aAvSABFYmNxA"
      },
      "source": [
        "### Preenchendo a matriz real do problema (9x9)\n"
      ]
    },
    {
      "cell_type": "markdown",
      "metadata": {
        "id": "juI5KJqMmaGk"
      },
      "source": [
        "Esta é a matriz do problema o qual é preciso achar a solução.\n",
        "<br>\n",
        "<br>\n",
        "Como ela é uma matriz específica, com tamanho e preenchimento inicial definidos, decidi fazer a instanciação inicial dela de maneira hard-coded.\n",
        "<br>\n",
        "<br>\n",
        "tam_tabuleiro -> Decide o tamanho dos lados da matriz\n",
        "np.zeros((tam_tabuleiro,tam_tabuleiro)) -> Cria a matriz de zeros quadrada de lado tam_tabuleiro\n",
        "<br>\n",
        "<br>\n",
        "Depois da função preenche_fixos, todos os campos \"vazios\" estarão preenchidos com zero, sinalizando para as próximas funções onde poderão ser alocados os números variáveis. E os já preenchidos nessa função serão fixos até o término do programa.\n",
        "\n",
        "\n",
        "\n",
        "<div>\n",
        "<img src=\"https://drive.google.com/thumbnail?id=1yezhTg1ErTEjZgBPnpy4E5nGTg39xt9i&authuser=0&sz=w1423-h789\" width=\"300\"/>\n",
        "</div>\n",
        "\n"
      ]
    },
    {
      "cell_type": "code",
      "metadata": {
        "id": "P4ohu-1Xnbnb"
      },
      "source": [
        "tam_tabuleiro = 9\n",
        "tabuleiro = np.zeros((tam_tabuleiro,tam_tabuleiro))\n",
        "tabuleiro_original = np.copy(tabuleiro)\n",
        "\n",
        "def preenche_fixos(tab):\n",
        "  tab[0][3] = 7\n",
        "  tab[1][0] = 1\n",
        "  tab[2][3] = 4\n",
        "  tab[2][4] = 3\n",
        "  tab[2][6] = 2\n",
        "  tab[3][8] = 6\n",
        "  tab[4][3] = 5\n",
        "  tab[4][5] = 9\n",
        "  tab[5][6] = 4\n",
        "  tab[5][7] = 1\n",
        "  tab[5][8] = 8\n",
        "  tab[6][4] = 8\n",
        "  tab[6][5] = 1\n",
        "  tab[7][3] = 2\n",
        "  tab[7][7] = 5\n",
        "  tab[8][1] = 4\n",
        "  tab[8][6] = 3\n",
        "\n",
        "  return tab"
      ],
      "execution_count": null,
      "outputs": []
    },
    {
      "cell_type": "markdown",
      "metadata": {
        "id": "ct0yCZINyjRf"
      },
      "source": [
        "### Preenchendo uma matriz teste (4X4)\n",
        "\n",
        "\n"
      ]
    },
    {
      "cell_type": "markdown",
      "metadata": {
        "id": "H_hHsRuvziXm"
      },
      "source": [
        "Esta é uma matriz teste consideravelmente mais fácil de se trabalhar e achar a solução do que a matriz real do problema\n",
        "<br>\n",
        "<br>\n",
        "Toda a função de preenchimento é igual exceto pelos valores fixos e pelo valor de tam_tabuleiro\n",
        "\n",
        "\n",
        "![matriz_teste.PNG](data:image/png;base64,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)\n",
        "\n",
        "Matriz exemplo tirada do exercício 1 da lista de exercícios da semana 6\n"
      ]
    },
    {
      "cell_type": "code",
      "metadata": {
        "id": "j0vUBhMtzdoy"
      },
      "source": [
        "tam_tabuleiro = 4\n",
        "tabuleiro = np.zeros((tam_tabuleiro,tam_tabuleiro))\n",
        "tabuleiro_original = np.copy(tabuleiro)\n",
        "\n",
        "def preenche_fixos(tab):\n",
        "  tab[0][0] = 3\n",
        "  tab[1][1] = 1\n",
        "  tab[2][0] = 1\n",
        "  tab[2][1] = 2\n",
        "  tab[1][2] = 4\n",
        "  tab[0][3] = 2\n",
        "  tab[2][3] = 4\n",
        "  tab[3][2] = 2\n",
        "  tab[3][3] = 1\n",
        "\n",
        "  return tab"
      ],
      "execution_count": null,
      "outputs": []
    },
    {
      "cell_type": "markdown",
      "metadata": {
        "id": "nH-300gEnh0b"
      },
      "source": [
        "### Preenchendo o resto dos campos com números escolhidos aleatoriamente no intervalo de números possíveis (de 1 até tam_tabuleiro)\n",
        "\n"
      ]
    },
    {
      "cell_type": "markdown",
      "metadata": {
        "id": "R8kRZupyyUYn"
      },
      "source": [
        "<br>\n",
        "Todos os campos considerados vazios (campos com valor 0), são preenchidos agora por um numero aleatório dentre os possíveis de acordo com o tamanho do Sudoku (entre 1 e tam_tabuleiro).\n",
        "<br>\n",
        "<br>\n",
        "Todas as coordenadas preenchidas nesse processo são guardadas na lista \"variáveis\", pois serão elas as variáveis da função.\n",
        "<br>\n",
        "<br>\n",
        "Somente os campos correspondentes as coordenadas gravadas nessa lista poderão ser mudadas no processo de Hill Climbing, fazendo com os números que foram preenchidos anteriormente permanecam fixos."
      ]
    },
    {
      "cell_type": "code",
      "metadata": {
        "id": "oUskIHrtp6Tz"
      },
      "source": [
        "def preenche_iniciais(tab):\n",
        "  variaveis = []\n",
        "  for i,row in enumerate(tab):\n",
        "    for j,value in enumerate(row):\n",
        "      if value == 0:\n",
        "        variaveis.append((i,j))\n",
        "        tab[i][j] = random.randint(1, tam_tabuleiro)\n",
        "\n",
        "  return tab, variaveis"
      ],
      "execution_count": null,
      "outputs": []
    },
    {
      "cell_type": "markdown",
      "metadata": {
        "id": "_-yO421Rp_Kw"
      },
      "source": [
        "### Função objetivo"
      ]
    },
    {
      "cell_type": "markdown",
      "metadata": {
        "id": "RzPEagGOvCAZ"
      },
      "source": [
        "<br>\n",
        "O valor retornado pela função objetivo é o número de casas erradas no tabuleiro. É uma função de minimização visto que o objetivo final é ter um tabuleiro em que a quantidade de casas erradas seja 0.\n",
        "<br>\n",
        "<br>\n",
        "A função acha esse número percorrendo o tabuleiro e cada vez que um número se repete em uma mesma linha, coluna ou bloco é somado 1.\n",
        "<br>\n",
        "<br>\n",
        "Se uma linha tiver três casas com o número 5 e duas casas com o número 7. A função somará 3 ao total. Porque existem dois número 5 errados e um número 7 errado nesta fileira.\n",
        "<br>\n",
        "<br>\n",
        "Faz-se a mesma coisa para todas as fileiras, colunas e blocos e tem-se o valor total da função que é retornado.\n",
        "\n"
      ]
    },
    {
      "cell_type": "code",
      "metadata": {
        "id": "Sh1IA7VCn9lR"
      },
      "source": [
        "def somas(tab):\n",
        "  soma_col = 0\n",
        "  soma_row = 0\n",
        "  soma_bloco = 0\n",
        "\n",
        "  # Calcula o somatório da diferença da soma de cada linha e coluna em relação a soma certa.\n",
        "  for i, row in enumerate(tab):\n",
        "    aux_row = 0\n",
        "    aux_col = 0\n",
        "    aux_row2 = []\n",
        "    aux_col2 = []\n",
        "    for j, value in enumerate(row):\n",
        "      if value in aux_row2:\n",
        "        aux_row += 1\n",
        "      aux_row2.append(value)\n",
        "      if tab[j][i] in aux_col2:\n",
        "        aux_col += 1\n",
        "      aux_col2.append(tab[j][i])\n",
        "\n",
        "    soma_row += aux_row\n",
        "    soma_col += aux_col\n",
        "\n",
        "  # Calcula o somatório da diferença da soma de cada bloco interno em relação a soma certa.\n",
        "  tam_bloco = int(math.sqrt(tam_tabuleiro))\n",
        "  quant_blocos = (tam_tabuleiro**2)/(tam_bloco**2)\n",
        "  for bloco1 in range(tam_bloco):\n",
        "    for bloco2 in range(tam_bloco):\n",
        "      aux_bloco = 0\n",
        "      aux_bloco2 = []\n",
        "      for i in range(tam_bloco):\n",
        "        for j in range(tam_bloco):\n",
        "          if tab[i+(tam_bloco*bloco1)][j+(tam_bloco*bloco2)] in aux_bloco2:\n",
        "            aux_bloco += 1\n",
        "          aux_bloco2.append(tab[i+(tam_bloco*bloco1)][j+(tam_bloco*bloco2)])\n",
        "\n",
        "      soma_bloco += aux_bloco\n",
        "\n",
        "  # Soma os calculos anterios para linhas, colunas e blocos para ter o valor da função para o tabuleiro todo.\n",
        "  \n",
        "  soma_total= soma_row + soma_col + soma_bloco\n",
        "  return soma_total"
      ],
      "execution_count": null,
      "outputs": []
    },
    {
      "cell_type": "markdown",
      "metadata": {
        "id": "sYo36DYqvm9N"
      },
      "source": [
        "### Hill Climbing:"
      ]
    },
    {
      "cell_type": "markdown",
      "metadata": {
        "id": "UaRMHA2Qvrq0"
      },
      "source": [
        "A função Hill Climbing utiliza a função somas() e a lista \"variaveis\" para calcular ao valor da função do tabuleiro com uma variável alterada por vez e vai sempre guardando o tabuleiro e o valor da função que tiver a soma mínima.\n",
        "<br>\n",
        "E ao achar a possibilidade mínima, entra recursivamente na função com o tabuleiro de soma mínima.\n",
        "<br>\n",
        "<br>\n",
        "Quando a função começa a andar de lado, ou seja, quando qualquer alteração não diminui o valor da função para um valor menor do que o tabuleiro atual, a função para e retorna o tabuleiro e o valor da função do tabuleiro final.\n"
      ]
    },
    {
      "cell_type": "code",
      "metadata": {
        "id": "VKo3TDq1yGq-"
      },
      "source": [
        "def hill_climbing(tabuleiro, variaveis, soma_min):\n",
        "  soma_min_anterior = soma_min\n",
        "  for num in range(tam_tabuleiro):\n",
        "    for variavel in variaveis:\n",
        "      i = variavel[0]\n",
        "      j = variavel[1]\n",
        "      tabuleiro_aux = np.copy(tabuleiro)\n",
        "      if tabuleiro_aux[i][j] != i+1:\n",
        "        tabuleiro_aux[i][j] = i+1\n",
        "        soma_atual = somas(tabuleiro_aux)\n",
        "        if soma_min > soma_atual:\n",
        "          coordenada_mudada = (i,j)\n",
        "          soma_min = soma_atual\n",
        "          tabuleiro_min = tabuleiro_aux\n",
        "    \n",
        "    if soma_min_anterior == soma_min:\n",
        "      return tabuleiro, soma_min\n",
        "    else:\n",
        "      print(\"\\n\")\n",
        "      print(tabuleiro_min)\n",
        "      print(\"Coordenada mudada:\",coordenada_mudada)\n",
        "      print(\"valor da função:\",soma_min)\n",
        "      return hill_climbing(tabuleiro_min, variaveis, soma_min)"
      ],
      "execution_count": null,
      "outputs": []
    },
    {
      "cell_type": "markdown",
      "metadata": {
        "id": "DPTDkhF1yNFv"
      },
      "source": [
        "### Execução e prints:"
      ]
    },
    {
      "cell_type": "markdown",
      "metadata": {
        "id": "KgU0A5lr0fXL"
      },
      "source": [
        "Implementei a possibilidade de rodar o algorítimo uma quantidade limitada de vez escolhida através da variável num_repetições e também a possibilidade de rodar o algorítimo até conseguir achar uma solução ótima (soma_min_hill == 0)\n",
        "<br>\n",
        "<br>\n",
        "Ambos os métodos geram prints mostrando o tabuleiro inicial, apenas com os valores fixos e em seguida uma sequencia de tabuleiros gerados aleatoriamente (Tabuleiro aleatorio da vez) com suas respectivas melhores respostas obtivas através das funções (Tabuleiro final dessa tentativa)\n",
        "<br>\n",
        "<br>\n",
        "É contabilizado também qual repetição de execução atual, através da variável vezes, e o valor da função no tabuleiro final de cada tentativa"
      ]
    },
    {
      "cell_type": "code",
      "metadata": {
        "id": "QHSR9_BV2cN-",
        "outputId": "10ed04d3-69be-424e-97b1-c787fccadb85",
        "colab": {
          "base_uri": "https://localhost:8080/",
          "height": 221
        }
      },
      "source": [
        "tabuleiro_original = preenche_fixos(tabuleiro_original)\n",
        "print(\"Tabuleiro inicial:\")\n",
        "print(tabuleiro_original)\n",
        "print(\"\\n\")"
      ],
      "execution_count": null,
      "outputs": [
        {
          "output_type": "stream",
          "text": [
            "Tabuleiro inicial:\n",
            "[[0. 0. 0. 7. 0. 0. 0. 0. 0.]\n",
            " [1. 0. 0. 0. 0. 0. 0. 0. 0.]\n",
            " [0. 0. 0. 4. 3. 0. 2. 0. 0.]\n",
            " [0. 0. 0. 0. 0. 0. 0. 0. 6.]\n",
            " [0. 0. 0. 5. 0. 9. 0. 0. 0.]\n",
            " [0. 0. 0. 0. 0. 0. 4. 1. 8.]\n",
            " [0. 0. 0. 0. 8. 1. 0. 0. 0.]\n",
            " [0. 0. 0. 2. 0. 0. 0. 5. 0.]\n",
            " [0. 4. 0. 0. 0. 0. 3. 0. 0.]]\n",
            "\n",
            "\n"
          ],
          "name": "stdout"
        }
      ]
    },
    {
      "cell_type": "code",
      "metadata": {
        "id": "ikC1qsTNUPJe"
      },
      "source": [
        "# Rodar um numero fixo de vezes\n",
        "'''\n",
        "num_repeticoes = 20\n",
        "\n",
        "for repeticao in range(num_repeticoes):\n",
        "  tabuleiro = np.copy(tabuleiro_original)\n",
        "  tabuleiro = preenche_fixos(tabuleiro)\n",
        "  tabuleiro, variaveis = preenche_iniciais(tabuleiro)\n",
        "  print(\"Tabuleiro aleatorio da vez:\")\n",
        "  print(tabuleiro)\n",
        "  print(\"\\n\")\n",
        "  somas(tabuleiro)\n",
        "  tabuleiro_hill, soma_min_hill = hill_climbing(tabuleiro, variaveis, 9999)\n",
        "  print(tabuleiro_hill)\n",
        "  print(\"Valor da função:\", soma_min_hill)\n",
        "'''\n",
        "\n",
        "#Rodar até achar a solução ótima\n",
        "def ate_solucao_otima():\n",
        "  tabuleiro = np.copy(tabuleiro_original)\n",
        "  tabuleiro = preenche_fixos(tabuleiro)\n",
        "  tabuleiro, variaveis = preenche_iniciais(tabuleiro)\n",
        "  print(\"\\n\")\n",
        "  print(\"Tabuleiro aleatorio da vez: 1\")\n",
        "  print(tabuleiro)\n",
        "  print(\"\\n\")\n",
        "  #somas(tabuleiro)\n",
        "  tabuleiro_hill, soma_min_hill = hill_climbing(tabuleiro, variaveis, 9999)\n",
        "  print(\"Tabuleiro final dessa tentativa:\")\n",
        "  print(tabuleiro_hill)\n",
        "  print(\"Valor da função:\", soma_min_hill)\n",
        "  vezes = 1\n",
        "  while(soma_min_hill != 0):\n",
        "    vezes += 1\n",
        "    tabuleiro = np.copy(tabuleiro_original)\n",
        "    tabuleiro = preenche_fixos(tabuleiro)\n",
        "    tabuleiro, variaveis = preenche_iniciais(tabuleiro)\n",
        "    print(\"\\n\")\n",
        "    print(\"Tabuleiro aleatorio da vez:\", vezes)\n",
        "    print(tabuleiro)\n",
        "    #somas(tabuleiro)\n",
        "    tabuleiro_hill, soma_min_hill = hill_climbing(tabuleiro, variaveis, 9999)\n",
        "    print(\"\\n\")\n",
        "    print(\"Tabuleiro final dessa tentativa:\")\n",
        "    print(tabuleiro_hill)\n",
        "    print(\"Valor da função:\", soma_min_hill)\n",
        "\n",
        "  return vezes\n",
        "\n",
        "#Rodar até achar a solução ótima\n",
        "ate_solucao_otima()\n",
        "\n",
        "\n",
        "#Rodar até achar a solução ótima um número fixo de vezes para achar a média de vezes necessária para se achar a solução ótima\n",
        "'''\n",
        "num_repeticoes = 100\n",
        "soma_vezes = 0\n",
        "for i in range(num_repeticoes):\n",
        "  soma_vezes += ate_solucao_otima()\n",
        "\n",
        "soma_vezes = soma_vezes/num_repeticoes\n",
        "print(\"Média de numero de vezes necessárias para se achar a solução ótima com \",num_repeticoes, \"repetições:\", soma_vezes)\n",
        "'''\n",
        "\n"
      ],
      "execution_count": null,
      "outputs": []
    },
    {
      "cell_type": "markdown",
      "metadata": {
        "id": "qUn_CFDo28-8"
      },
      "source": [
        "## Análisando a implementação e os resultados"
      ]
    },
    {
      "cell_type": "markdown",
      "metadata": {
        "id": "UjZw7ubP5JHG"
      },
      "source": [
        "### Implementação"
      ]
    },
    {
      "cell_type": "markdown",
      "metadata": {
        "id": "RKm1kOjjWUSx"
      },
      "source": [
        "#### <b>Representação da Matriz</b>\n",
        "\n",
        "Para representar o tabuleiro de Sudoku eu fiz uma matriz usando a biblioteca Numpy do Python.\n",
        "Primeiramente definindo um tamanho do lado do tabuleiro\n",
        "<br>\n",
        "<br>\n",
        "<i>Ex: tam_tabuleiro = 9</i>\n",
        "<br>\n",
        "<br>\n",
        "E em seguida, como todo tabuleiro tem que ser quadrado, criei uma matriz de tamanho <b>tam_tabuleiro</b> por <b>tam_tabuleiro</b>\n",
        "<br>\n",
        "<br>\n",
        "tabuleiro = np.zeros((tam_tabuleiro,tam_tabuleiro))\n",
        "<br>\n",
        "<br>\n",
        "Isso cria uma matriz do tamanho desejado toda preenchida com zeros. Os zeros nesse caso representam campos ainda não preenchidos pois não existe o valor zero nos campos de um tabuleiro de Sudoku.\n",
        "<br>\n",
        "Após a criação da matriz no formato correto é necessário apenas rodar a função preenche_fixos(), que preenche todos os valores fixos hardcoded pelo enunciado do programa, e a matriz está pronta.\n",
        "<br>\n",
        "<br> \n",
        "#### <b>Duas funções objetivo</b>\n",
        "\n",
        "##### <b>Funções objetivo antiga</b>\n",
        "Ao pensar em que função usar parar ser minimizada ou maximizada pela algoritmo Hill Climbing, eu lembrei de um paper que eu tinha lido rapidamente sobre Hill Climbing dias antes.\n",
        "<br>\n",
        "<a href=\"https://iugspace.iugaza.edu.ps/bitstream/handle/20.500.12358/25136/Alijla%2C%20Basem%20O_5.pdf?sequence=1&isAllowed=y\">\n",
        "Paper \"ß-Hill Climbing algorithm for sudoku game\"\n",
        "</a>\n",
        "<br>\n",
        "<br>\n",
        "![](https://drive.google.com/uc?export=view&id=1-OYzcddbHRjh6xVNLv-eG2rYR_Hu4qe-)\n",
        "\n",
        "<br>\n",
        "Me baseando nesse trecho, defini o valor da minha função objetivo como o somatório da diferença da soma do valor de cada linha, coluna e bloco em relação a soma real que deveria dar em um Sudoku correto.\n",
        "<br>\n",
        "<br>\n",
        "Consegui fazer a implementação correta, mas após a apresentação do código em sala de aula percebi que existe a possibilidade de essa função objetivo gerar um \"falso positivo\", ou seja, definir um tabuleiro como tendo o valor 0 mesmo que esse tabuleiro não seja um tabuleiro de Sudoku válido e tenha repetições na linha, coluna ou blocos.\n",
        "<br>\n",
        "<br>\n",
        "Ex:\n",
        "<br>\n",
        "\n",
        "![](https://drive.google.com/uc?export=view&id=19BUXNLQRub6UC086YSdrFB0QKnTP5gZL)\n",
        "\n",
        "<br>\n",
        "No tabuleiro acima todas as linhas, colunas e blocos somam 45 como deveriam somar, mas existem muitos números que se repetem nas suas devidas linhas colunas e blocos também (marcados em vermelho). Pela minha função objetiva antiga esse tabuleiro seria considerado válido mesmo tendo a maioria de seus valores errados.\n",
        "\n",
        "<br>\n",
        "<br>\n",
        "\n",
        "##### <b>Funções objetivo nova</b>\n",
        "Depois de perceber o erro fiz uma nova versão da função objetivo que não retorna falsos positivos e também é mais simples de entender e de implementar.\n",
        "<br>\n",
        "<br>\n",
        "Do mesmo modo que a função antiga, cada linha, coluna e bloco são percorridos, mas desta vez é contabilizado a número de casas com o número errado. Ou seja o número excedente de mesmos algarismos em cada linha, coluna e bloco.\n",
        "<br>\n",
        "<br>\n",
        "Na nova função implementada se uma linha tiver três casas com o número 5 e duas casas com o número 7. A função somará 3 ao total. Porque existem dois número 5 errados e um número 7 errado nesta fileira.\n",
        "<br>\n",
        "<br>\n",
        "Faz-se a mesma coisa para todas as fileiras, colunas e blocos e tem-se o valor total da função que é retornado.\n",
        "<br>\n",
        "Desta forma a função objetivo continua sendo uma função de minimização. Visto que o objetivo final é ter um tabuleiro em que a quantidade de casas erradas seja 0.\n",
        "\n",
        "\n",
        "\n",
        "\n"
      ]
    },
    {
      "cell_type": "markdown",
      "metadata": {
        "id": "B3FEz32dblEL"
      },
      "source": [
        "### Resultados"
      ]
    },
    {
      "cell_type": "markdown",
      "metadata": {
        "id": "TDjvUcEQbplV"
      },
      "source": [
        "Rodando o algorítmo com a matriz 4X4 como entrada, sempre e rapidamente o resultado retorna.\n",
        "<br>\n",
        "<br>\n",
        "Para obter uma média de vezes necessárias para se rodar o algorítmo até se achar uma solução ótima, eu coloquei um <i><b>while</b></i> que faz repetir até a solução ótima serencontrada dentro de uma estrutura de <i><b>for</b></i>, somando a quantidade de vezes repetidas para se achar a solução em cada <i><b>while</b></i> e em seguida dividindi pela quantidade de repetições do <i><b>for</b></i>.\n",
        "<br>\n",
        "<br>\n",
        "Para a matriz de teste 4X4, com um <i><b>for</b></i> repetindo 100 vezes, o número médio de repetições necessárias para se achar a solução foi de 61.15 vezes.\n",
        "<br>\n",
        "<br>\n",
        "Para a matriz 9X9 do problema original, a solução é bem mais dificil. Deixei o programando rodando por um longo tempo, ele testou mais de 15.000 de configurações iniciais aleatórias diferentes e mesmo assim nunca conseguiu retornar uma solução ótima.\n",
        "<br>\n",
        "<br>\n",
        "A conclusão chegada é que o método de Hill Climbing não é o mais indicado para este caso específico de problema. O tabuleiro do problema só pode ser resolvido pelo método de Hill Climbing com uma configuração inicial específica, e por ter uma grande quantidade de variáveis aleatoriamente definidas envolvidas, é muito demorado chegar na configuração necessária para resolver o problema.\n",
        "<br>\n",
        "Para tabuleiros mais simples, menores ou com menos valores variáveis o algoritmo Hill Climbing pode ter a possibilidade de achar soluções rapidamente para o problema, como visto quando rodado com a matriz 4X4 de exemplo.\n",
        "<br>\n",
        "<br>\n",
        "Depende da análise caso-a-caso da complexidade para saber se um algoritmo de Hill Climbing deve ou não ser usado para um dado tabuleiro de Sudoku."
      ]
    }
  ]
}